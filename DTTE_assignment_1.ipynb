{
  "cells": [
    {
      "cell_type": "markdown",
      "metadata": {
        "id": "view-in-github",
        "colab_type": "text"
      },
      "source": [
        "<a href=\"https://colab.research.google.com/github/adhilcodes/DTTE_projects/blob/main/DTTE_assignment_1.ipynb\" target=\"_parent\"><img src=\"https://colab.research.google.com/assets/colab-badge.svg\" alt=\"Open In Colab\"/></a>"
      ]
    },
    {
      "cell_type": "markdown",
      "source": [
        "## Assignment:"
      ],
      "metadata": {
        "id": "Mu54fdU24sgs"
      }
    },
    {
      "cell_type": "markdown",
      "source": [
        "Question 1:\n",
        "What are the basic data types covered in the Python tutorial? Give examples of each data type and explain their usage.\n",
        "\n",
        "Question 2:\n",
        "Explain the concept of broadcasting in NumPy and provide an example of how it works in array operations.\n",
        "\n",
        "Question 3:\n",
        "How can you create subplots in Matplotlib? Provide an example of creating subplots and plotting multiple functions in a single figure.\n",
        "\n",
        "Question 4:\n",
        "How can you use list comprehensions in Python? Provide an example of list comprehension to generate a list of even squares."
      ],
      "metadata": {
        "id": "oEume_63EvEd"
      }
    },
    {
      "cell_type": "markdown",
      "source": [
        "# Solutions:"
      ],
      "metadata": {
        "id": "uaT3Opw0kqp0"
      }
    },
    {
      "cell_type": "markdown",
      "source": [
        "### Question 1\n"
      ],
      "metadata": {
        "id": "-ilUBYgazW0R"
      }
    },
    {
      "cell_type": "code",
      "source": [
        "a = 24\n",
        "b = 33.1\n",
        "c = True\n",
        "d = \"computer\"\n",
        "\n",
        "print(a, type(a))\n",
        "print(b, type(b))\n",
        "print(c, type(c))\n",
        "print(d, type(d))"
      ],
      "metadata": {
        "colab": {
          "base_uri": "https://localhost:8080/"
        },
        "id": "OQY_ZmjTktlT",
        "outputId": "b85534ff-c25e-4515-dd16-c6e12d11d86c"
      },
      "execution_count": 83,
      "outputs": [
        {
          "output_type": "stream",
          "name": "stdout",
          "text": [
            "24 <class 'int'>\n",
            "33.1 <class 'float'>\n",
            "True <class 'bool'>\n",
            "computer <class 'str'>\n"
          ]
        }
      ]
    },
    {
      "cell_type": "markdown",
      "source": [
        "### Question 2\n",
        "\n",
        " * Broadcasting describes how numpy treats arrays with different shapes during arithmetic operations\n",
        "\n",
        " * Here in my example, array a is 3x4 and array b is 1x4, now the resultant array c is 3x4"
      ],
      "metadata": {
        "id": "BzY5m1snnR2P"
      }
    },
    {
      "cell_type": "code",
      "source": [
        "import numpy as np\n",
        "\n",
        "\n",
        "a = np.array([[2, 4, 6, 8], [22, 24, 26, 28], [33, 44, 55, 66]])\n",
        "b = np.array([10, 20, 30, 40])\n",
        "\n",
        "c = a * b\n",
        "print(c)"
      ],
      "metadata": {
        "colab": {
          "base_uri": "https://localhost:8080/"
        },
        "id": "FP6bG4V0ksTf",
        "outputId": "7abaa82d-bf40-49e2-9a28-3f9a94fed126"
      },
      "execution_count": 78,
      "outputs": [
        {
          "output_type": "stream",
          "name": "stdout",
          "text": [
            "[[  20   80  180  320]\n",
            " [ 220  480  780 1120]\n",
            " [ 330  880 1650 2640]]\n"
          ]
        }
      ]
    },
    {
      "cell_type": "markdown",
      "source": [
        "### Question 3"
      ],
      "metadata": {
        "id": "czgUrlaYzbRe"
      }
    },
    {
      "cell_type": "code",
      "source": [
        "import matplotlib.pyplot as plt\n",
        "\n",
        "\n",
        "list_1 = [1, 2, 3, 4, 5]\n",
        "list_2 = [22, 33, 44, 45, 46]\n",
        "list_3 = [1, 13, 23, 33, 34]\n",
        "\n",
        "# Plot 1\n",
        "plt.subplot(1, 2, 1)\n",
        "plt.plot(list_1, list_2)\n",
        "plt.title('Plot 1')\n",
        "plt.xlabel('X-axis')\n",
        "plt.ylabel('Y-axis')\n",
        "\n",
        "# Plot 2\n",
        "plt.subplot(1, 2, 2)\n",
        "plt.plot(list_1, list_3)\n",
        "plt.title('PLot 2')\n",
        "plt.xlabel('X-axis')\n",
        "plt.ylabel('Y-axis')\n",
        "\n",
        "\n",
        "plt.show()\n"
      ],
      "metadata": {
        "colab": {
          "base_uri": "https://localhost:8080/",
          "height": 472
        },
        "id": "RWp1wtBHn0cj",
        "outputId": "c8b96574-cb89-4e55-8364-172541383373"
      },
      "execution_count": 81,
      "outputs": [
        {
          "output_type": "display_data",
          "data": {
            "text/plain": [
              "<Figure size 640x480 with 2 Axes>"
            ],
            "image/png": "[encoded data removed]"
          },
          "metadata": {}
        }
      ]
    },
    {
      "cell_type": "markdown",
      "source": [
        "### Question 4\n",
        "\n",
        "List comprehension to generate a list of even squares"
      ],
      "metadata": {
        "id": "QBu00RGMzddz"
      }
    },
    {
      "cell_type": "code",
      "source": [
        "nums = [num for num in range(40)]\n",
        "\n",
        "squares_list = [i**2 for i in nums if i % 2 == 0]\n",
        "\n",
        "print(squares_list)"
      ],
      "metadata": {
        "colab": {
          "base_uri": "https://localhost:8080/"
        },
        "id": "Vxi57-dKzeSu",
        "outputId": "d998d256-8c22-4a54-c896-b2cd064550b0"
      },
      "execution_count": 82,
      "outputs": [
        {
          "output_type": "stream",
          "name": "stdout",
          "text": [
            "[0, 4, 16, 36, 64, 100, 144, 196, 256, 324, 400, 484, 576, 676, 784, 900, 1024, 1156, 1296, 1444]\n"
          ]
        }
      ]
    },
    {
      "cell_type": "code",
      "source": [],
      "metadata": {
        "id": "KDFWHCs742_d"
      },
      "execution_count": null,
      "outputs": []
    }
  ],
  "metadata": {
    "colab": {
      "provenance": [],
      "include_colab_link": true
    },
    "kernelspec": {
      "display_name": "Python 3",
      "language": "python",
      "name": "python3"
    },
    "language_info": {
      "codemirror_mode": {
        "name": "ipython",
        "version": 3
      },
      "file_extension": ".py",
      "mimetype": "text/x-python",
      "name": "python",
      "nbconvert_exporter": "python",
      "pygments_lexer": "ipython3",
      "version": "3.7.6"
    }
  },
  "nbformat": 4,
  "nbformat_minor": 0
}